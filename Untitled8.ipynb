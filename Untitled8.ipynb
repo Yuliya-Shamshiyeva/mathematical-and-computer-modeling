{
 "cells": [
  {
   "cell_type": "code",
   "execution_count": 2,
   "metadata": {},
   "outputs": [
    {
     "name": "stdout",
     "output_type": "stream",
     "text": [
      "Конфигурация сохранена в файле site_config.json\n"
     ]
    }
   ],
   "source": [
    "import requests\n",
    "from bs4 import BeautifulSoup\n",
    "import json\n",
    "\n",
    "# Функция для загрузки HTML-страницы\n",
    "def download_page(url):\n",
    "    response = requests.get(url)\n",
    "    return response.text\n",
    "\n",
    "# Функция для извлечения текста с HTML-страницы\n",
    "def extract_text(html):\n",
    "    soup = BeautifulSoup(html, 'html.parser')\n",
    "    # Извлекаем все текстовые элементы на странице\n",
    "    text_elements = soup.find_all(text=True)\n",
    "    # Собираем весь текст в одну строку\n",
    "    text = ' '.join(element.strip() for element in text_elements if element.strip())\n",
    "    return text\n",
    "\n",
    "# URL вашего сайта\n",
    "site_url = \"https://nomadfarm-24.store/\"\n",
    "# Загружаем HTML-код главной страницы сайта\n",
    "main_page_html = download_page(site_url)\n",
    "# Извлекаем текст с главной страницы\n",
    "main_page_text = extract_text(main_page_html)\n",
    "\n",
    "# Пример использования:\n",
    "# print(main_page_text)\n",
    "\n",
    "# Создаем JSON-конфигурацию\n",
    "config = {\n",
    "    \"site_url\": site_url,\n",
    "    \"pages\": [\n",
    "        {\n",
    "            \"url\": site_url,\n",
    "            \"text\": main_page_text\n",
    "        }\n",
    "        # Здесь можно добавить другие страницы вашего сайта по аналогии\n",
    "    ]\n",
    "}\n",
    "\n",
    "# Записываем JSON-конфигурацию в файл\n",
    "with open(\"site_config.json\", \"w\", encoding=\"utf-8\") as json_file:\n",
    "    json.dump(config, json_file, ensure_ascii=False, indent=4)\n",
    "\n",
    "print(\"Конфигурация сохранена в файле site_config.json\")"
   ]
  },
  {
   "cell_type": "code",
   "execution_count": 4,
   "metadata": {},
   "outputs": [
    {
     "ename": "ModuleNotFoundError",
     "evalue": "No module named 'selenium'",
     "output_type": "error",
     "traceback": [
      "\u001b[1;31m---------------------------------------------------------------------------\u001b[0m",
      "\u001b[1;31mModuleNotFoundError\u001b[0m                       Traceback (most recent call last)",
      "\u001b[1;32m<ipython-input-4-fc4e309dd342>\u001b[0m in \u001b[0;36m<module>\u001b[1;34m\u001b[0m\n\u001b[1;32m----> 1\u001b[1;33m \u001b[1;32mfrom\u001b[0m \u001b[0mselenium\u001b[0m \u001b[1;32mimport\u001b[0m \u001b[0mwebdriver\u001b[0m\u001b[1;33m\u001b[0m\u001b[1;33m\u001b[0m\u001b[0m\n\u001b[0m\u001b[0;32m      2\u001b[0m \u001b[1;32mimport\u001b[0m \u001b[0mtime\u001b[0m\u001b[1;33m\u001b[0m\u001b[1;33m\u001b[0m\u001b[0m\n\u001b[0;32m      3\u001b[0m \u001b[1;33m\u001b[0m\u001b[0m\n\u001b[0;32m      4\u001b[0m \u001b[1;31m# Путь к драйверу браузера. Здесь используется Chrome, но вы можете использовать любой другой поддерживаемый браузер.\u001b[0m\u001b[1;33m\u001b[0m\u001b[1;33m\u001b[0m\u001b[1;33m\u001b[0m\u001b[0m\n\u001b[0;32m      5\u001b[0m \u001b[1;31m# Скачать Chrome WebDriver можно с https://chromedriver.chromium.org/downloads\u001b[0m\u001b[1;33m\u001b[0m\u001b[1;33m\u001b[0m\u001b[1;33m\u001b[0m\u001b[0m\n",
      "\u001b[1;31mModuleNotFoundError\u001b[0m: No module named 'selenium'"
     ]
    }
   ],
   "source": [
    "from selenium import webdriver\n",
    "import time\n",
    "\n",
    "# Путь к драйверу браузера. Здесь используется Chrome, но вы можете использовать любой другой поддерживаемый браузер.\n",
    "# Скачать Chrome WebDriver можно с https://chromedriver.chromium.org/downloads\n",
    "driver_path = \"/путь/к/вашему/драйверу/chromedriver\"\n",
    "\n",
    "# Создаем экземпляр драйвера браузера\n",
    "driver = webdriver.Chrome(driver_path)\n",
    "\n",
    "# URL вашего сайта\n",
    "site_url = \"https://nomadfarm-24.store/\"\n",
    "\n",
    "# Загружаем страницу\n",
    "driver.get(site_url)\n",
    "\n",
    "# Ждем несколько секунд, чтобы страница полностью загрузилась (может потребоваться настройка времени в зависимости от скорости загрузки сайта)\n",
    "time.sleep(5)\n",
    "\n",
    "# Получаем текст страницы\n",
    "page_text = driver.find_element_by_tag_name(\"body\").text\n",
    "\n",
    "# Выводим текст на экран (для проверки)\n",
    "print(page_text)\n",
    "\n",
    "# Закрываем браузер\n",
    "driver.quit()"
   ]
  },
  {
   "cell_type": "code",
   "execution_count": 5,
   "metadata": {},
   "outputs": [
    {
     "name": "stdout",
     "output_type": "stream",
     "text": [
      "Requirement already satisfied: beautifulsoup4 in c:\\programdata\\anaconda3\\lib\\site-packages (4.7.1)\n",
      "Requirement already satisfied: soupsieve>=1.2 in c:\\programdata\\anaconda3\\lib\\site-packages (from beautifulsoup4) (1.8)\n",
      "Note: you may need to restart the kernel to use updated packages.\n"
     ]
    }
   ],
   "source": [
    "pip install beautifulsoup4\n"
   ]
  },
  {
   "cell_type": "code",
   "execution_count": 6,
   "metadata": {},
   "outputs": [
    {
     "name": "stdout",
     "output_type": "stream",
     "text": [
      "doctype html NomadFarm You need to enable JavaScript to run this app. \n"
     ]
    }
   ],
   "source": [
    "import requests\n",
    "from bs4 import BeautifulSoup\n",
    "\n",
    "# URL вашего сайта\n",
    "url = \"https://nomadfarm-24.store/\"\n",
    "\n",
    "# Отправляем GET-запрос к указанному URL\n",
    "response = requests.get(url)\n",
    "\n",
    "# Проверяем успешность запроса\n",
    "if response.status_code == 200:\n",
    "    # Получаем HTML-код страницы\n",
    "    html = response.text\n",
    "    \n",
    "    # Создаем объект BeautifulSoup для парсинга HTML\n",
    "    soup = BeautifulSoup(html, \"html.parser\")\n",
    "    \n",
    "    # Находим все текстовые элементы на странице\n",
    "    text_elements = soup.find_all(text=True)\n",
    "    \n",
    "    # Создаем пустую строку для хранения текста страницы\n",
    "    page_text = \"\"\n",
    "    \n",
    "    # Объединяем текстовые элементы в одну строку\n",
    "    for element in text_elements:\n",
    "        page_text += element.strip() + \" \"\n",
    "    \n",
    "    # Выводим текст страницы\n",
    "    print(page_text)\n",
    "else:\n",
    "    print(\"Ошибка при получении страницы:\", response.status_code)"
   ]
  },
  {
   "cell_type": "code",
   "execution_count": 9,
   "metadata": {},
   "outputs": [
    {
     "ename": "ModuleNotFoundError",
     "evalue": "No module named 'selenium'",
     "output_type": "error",
     "traceback": [
      "\u001b[1;31m---------------------------------------------------------------------------\u001b[0m",
      "\u001b[1;31mModuleNotFoundError\u001b[0m                       Traceback (most recent call last)",
      "\u001b[1;32m<ipython-input-9-e29a23d1c893>\u001b[0m in \u001b[0;36m<module>\u001b[1;34m\u001b[0m\n\u001b[1;32m----> 1\u001b[1;33m \u001b[1;32mfrom\u001b[0m \u001b[0mselenium\u001b[0m \u001b[1;32mimport\u001b[0m \u001b[0mwebdriver\u001b[0m\u001b[1;33m\u001b[0m\u001b[1;33m\u001b[0m\u001b[0m\n\u001b[0m\u001b[0;32m      2\u001b[0m \u001b[1;32mimport\u001b[0m \u001b[0mtime\u001b[0m\u001b[1;33m\u001b[0m\u001b[1;33m\u001b[0m\u001b[0m\n\u001b[0;32m      3\u001b[0m \u001b[1;33m\u001b[0m\u001b[0m\n\u001b[0;32m      4\u001b[0m \u001b[1;31m# Путь к драйверу браузера. Здесь используется Chrome, но вы можете использовать любой другой поддерживаемый браузер.\u001b[0m\u001b[1;33m\u001b[0m\u001b[1;33m\u001b[0m\u001b[1;33m\u001b[0m\u001b[0m\n\u001b[0;32m      5\u001b[0m \u001b[1;31m# Скачать Chrome WebDriver можно с https://chromedriver.chromium.org/downloads\u001b[0m\u001b[1;33m\u001b[0m\u001b[1;33m\u001b[0m\u001b[1;33m\u001b[0m\u001b[0m\n",
      "\u001b[1;31mModuleNotFoundError\u001b[0m: No module named 'selenium'"
     ]
    }
   ],
   "source": [
    "from selenium import webdriver\n",
    "import time\n",
    "\n",
    "# Путь к драйверу браузера. Здесь используется Chrome, но вы можете использовать любой другой поддерживаемый браузер.\n",
    "# Скачать Chrome WebDriver можно с https://chromedriver.chromium.org/downloads\n",
    "driver_path = \"D:/Desktop files/My files/I can/2024/Гарком/chromedriver\"\n",
    "\n",
    "# Создаем экземпляр драйвера браузера\n",
    "driver = webdriver.Chrome(driver_path)\n",
    "\n",
    "# URL вашего сайта\n",
    "site_url = \"https://nomadfarm-24.store/\"\n",
    "\n",
    "# Загружаем страницу\n",
    "driver.get(site_url)\n",
    "\n",
    "# Ждем несколько секунд, чтобы страница полностью загрузилась (может потребоваться настройка времени в зависимости от скорости загрузки сайта)\n",
    "time.sleep(5)\n",
    "\n",
    "# Получаем текст страницы\n",
    "page_text = driver.find_element_by_tag_name(\"body\").text\n",
    "\n",
    "# Выводим текст на экран (для проверки)\n",
    "print(page_text)\n",
    "\n",
    "# Закрываем браузер\n",
    "driver.quit()"
   ]
  },
  {
   "cell_type": "code",
   "execution_count": 8,
   "metadata": {},
   "outputs": [
    {
     "name": "stdout",
     "output_type": "stream",
     "text": [
      "Collecting selenium\n",
      "  Downloading https://files.pythonhosted.org/packages/10/56/8288d1813a68c1e0638515dbb777fce6d87d0d240e683216f956145310e6/selenium-4.11.2-py3-none-any.whl (7.2MB)\n",
      "Collecting urllib3[socks]<3,>=1.26 (from selenium)\n",
      "  Downloading https://files.pythonhosted.org/packages/d2/b2/b157855192a68541a91ba7b2bbcb91f1b4faa51f8bae38d8005c034be524/urllib3-2.0.7-py3-none-any.whl (124kB)\n",
      "Collecting trio~=0.17 (from selenium)\n",
      "  Downloading https://files.pythonhosted.org/packages/a3/dd/b61fa61b186d3267ef3903048fbee29132963ae762fb70b08d4a3cd6f7aa/trio-0.22.2-py3-none-any.whl (400kB)\n",
      "Collecting certifi>=2021.10.8 (from selenium)\n",
      "  Downloading https://files.pythonhosted.org/packages/ba/06/a07f096c664aeb9f01624f858c3add0a4e913d6c96257acb4fce61e7de14/certifi-2024.2.2-py3-none-any.whl (163kB)\n",
      "Collecting trio-websocket~=0.9 (from selenium)\n",
      "  Downloading https://files.pythonhosted.org/packages/48/be/a9ae5f50cad5b6f85bd2574c2c923730098530096e170c1ce7452394d7aa/trio_websocket-0.11.1-py3-none-any.whl\n",
      "Requirement already satisfied: pysocks!=1.5.7,<2.0,>=1.5.6; extra == \"socks\" in c:\\programdata\\anaconda3\\lib\\site-packages (from urllib3[socks]<3,>=1.26->selenium) (1.7.0)\n",
      "Requirement already satisfied: idna in c:\\programdata\\anaconda3\\lib\\site-packages (from trio~=0.17->selenium) (2.8)\n",
      "Collecting attrs>=20.1.0 (from trio~=0.17->selenium)\n",
      "  Downloading https://files.pythonhosted.org/packages/e0/44/827b2a91a5816512fcaf3cc4ebc465ccd5d598c45cefa6703fcf4a79018f/attrs-23.2.0-py3-none-any.whl (60kB)\n",
      "Requirement already satisfied: sortedcontainers in c:\\programdata\\anaconda3\\lib\\site-packages (from trio~=0.17->selenium) (2.1.0)\n",
      "Collecting sniffio (from trio~=0.17->selenium)\n",
      "  Downloading https://files.pythonhosted.org/packages/e9/44/75a9c9421471a6c4805dbf2356f7c181a29c1879239abab1ea2cc8f38b40/sniffio-1.3.1-py3-none-any.whl\n",
      "Collecting exceptiongroup>=1.0.0rc9; python_version < \"3.11\" (from trio~=0.17->selenium)\n",
      "  Downloading https://files.pythonhosted.org/packages/01/90/79fe92dd413a9cab314ef5c591b5aa9b9ba787ae4cadab75055b0ae00b33/exceptiongroup-1.2.1-py3-none-any.whl\n",
      "Collecting outcome (from trio~=0.17->selenium)\n",
      "  Downloading https://files.pythonhosted.org/packages/55/8b/5ab7257531a5d830fc8000c476e63c935488d74609b50f9384a643ec0a62/outcome-1.3.0.post0-py2.py3-none-any.whl\n",
      "Collecting cffi>=1.14; os_name == \"nt\" and implementation_name != \"pypy\" (from trio~=0.17->selenium)\n",
      "  Downloading https://files.pythonhosted.org/packages/32/2a/63cb8c07d151de92ff9d897b2eb27ba6a0e78dda8e4c5f70d7b8c16cd6a2/cffi-1.15.1-cp37-cp37m-win_amd64.whl (179kB)\n",
      "Collecting wsproto>=0.14 (from trio-websocket~=0.9->selenium)\n",
      "  Downloading https://files.pythonhosted.org/packages/78/58/e860788190eba3bcce367f74d29c4675466ce8dddfba85f7827588416f01/wsproto-1.2.0-py3-none-any.whl\n",
      "Requirement already satisfied: importlib-metadata; python_version < \"3.8\" in c:\\programdata\\anaconda3\\lib\\site-packages (from attrs>=20.1.0->trio~=0.17->selenium) (0.17)\n",
      "Requirement already satisfied: pycparser in c:\\programdata\\anaconda3\\lib\\site-packages (from cffi>=1.14; os_name == \"nt\" and implementation_name != \"pypy\"->trio~=0.17->selenium) (2.19)\n",
      "Collecting h11<1,>=0.9.0 (from wsproto>=0.14->trio-websocket~=0.9->selenium)\n",
      "  Downloading https://files.pythonhosted.org/packages/95/04/ff642e65ad6b90db43e668d70ffb6736436c7ce41fcc549f4e9472234127/h11-0.14.0-py3-none-any.whl (58kB)\n",
      "Requirement already satisfied: zipp>=0.5 in c:\\programdata\\anaconda3\\lib\\site-packages (from importlib-metadata; python_version < \"3.8\"->attrs>=20.1.0->trio~=0.17->selenium) (0.5.1)\n",
      "Collecting typing-extensions; python_version < \"3.8\" (from h11<1,>=0.9.0->wsproto>=0.14->trio-websocket~=0.9->selenium)\n",
      "  Downloading https://files.pythonhosted.org/packages/ec/6b/63cc3df74987c36fe26157ee12e09e8f9db4de771e0f3404263117e75b95/typing_extensions-4.7.1-py3-none-any.whl\n",
      "Installing collected packages: urllib3, attrs, sniffio, exceptiongroup, outcome, cffi, trio, certifi, typing-extensions, h11, wsproto, trio-websocket, selenium\n",
      "  Found existing installation: urllib3 1.24.2\n",
      "    Uninstalling urllib3-1.24.2:\n",
      "      Successfully uninstalled urllib3-1.24.2\n",
      "  Found existing installation: attrs 19.1.0\n",
      "    Uninstalling attrs-19.1.0:\n",
      "      Successfully uninstalled attrs-19.1.0\n",
      "  Found existing installation: cffi 1.12.3\n",
      "    Uninstalling cffi-1.12.3:\n",
      "      Successfully uninstalled cffi-1.12.3\n",
      "Note: you may need to restart the kernel to use updated packages.\n"
     ]
    },
    {
     "name": "stderr",
     "output_type": "stream",
     "text": [
      "ERROR: conda 4.10.3 requires ruamel_yaml_conda>=0.11.14, which is not installed.\n",
      "ERROR: requests 2.22.0 has requirement urllib3!=1.25.0,!=1.25.1,<1.26,>=1.21.1, but you'll have urllib3 2.0.7 which is incompatible.\n",
      "ERROR: Could not install packages due to an EnvironmentError: [WinError 5] Отказано в доступе: 'C:\\\\Users\\\\User\\\\AppData\\\\Local\\\\Temp\\\\pip-uninstall-gl_3guh5\\\\_cffi_backend.cp37-win_amd64.pyd'\n",
      "Consider using the `--user` option or check the permissions.\n",
      "\n"
     ]
    }
   ],
   "source": [
    "pip install selenium\n"
   ]
  },
  {
   "cell_type": "code",
   "execution_count": 10,
   "metadata": {},
   "outputs": [
    {
     "ename": "ModuleNotFoundError",
     "evalue": "No module named 'selenium'",
     "output_type": "error",
     "traceback": [
      "\u001b[1;31m---------------------------------------------------------------------------\u001b[0m",
      "\u001b[1;31mModuleNotFoundError\u001b[0m                       Traceback (most recent call last)",
      "\u001b[1;32m<ipython-input-10-e29a23d1c893>\u001b[0m in \u001b[0;36m<module>\u001b[1;34m\u001b[0m\n\u001b[1;32m----> 1\u001b[1;33m \u001b[1;32mfrom\u001b[0m \u001b[0mselenium\u001b[0m \u001b[1;32mimport\u001b[0m \u001b[0mwebdriver\u001b[0m\u001b[1;33m\u001b[0m\u001b[1;33m\u001b[0m\u001b[0m\n\u001b[0m\u001b[0;32m      2\u001b[0m \u001b[1;32mimport\u001b[0m \u001b[0mtime\u001b[0m\u001b[1;33m\u001b[0m\u001b[1;33m\u001b[0m\u001b[0m\n\u001b[0;32m      3\u001b[0m \u001b[1;33m\u001b[0m\u001b[0m\n\u001b[0;32m      4\u001b[0m \u001b[1;31m# Путь к драйверу браузера. Здесь используется Chrome, но вы можете использовать любой другой поддерживаемый браузер.\u001b[0m\u001b[1;33m\u001b[0m\u001b[1;33m\u001b[0m\u001b[1;33m\u001b[0m\u001b[0m\n\u001b[0;32m      5\u001b[0m \u001b[1;31m# Скачать Chrome WebDriver можно с https://chromedriver.chromium.org/downloads\u001b[0m\u001b[1;33m\u001b[0m\u001b[1;33m\u001b[0m\u001b[1;33m\u001b[0m\u001b[0m\n",
      "\u001b[1;31mModuleNotFoundError\u001b[0m: No module named 'selenium'"
     ]
    }
   ],
   "source": [
    "from selenium import webdriver\n",
    "import time\n",
    "\n",
    "# Путь к драйверу браузера. Здесь используется Chrome, но вы можете использовать любой другой поддерживаемый браузер.\n",
    "# Скачать Chrome WebDriver можно с https://chromedriver.chromium.org/downloads\n",
    "driver_path = \"D:/Desktop files/My files/I can/2024/Гарком/chromedriver\"\n",
    "\n",
    "# Создаем экземпляр драйвера браузера\n",
    "driver = webdriver.Chrome(driver_path)\n",
    "\n",
    "# URL вашего сайта\n",
    "site_url = \"https://nomadfarm-24.store/\"\n",
    "\n",
    "# Загружаем страницу\n",
    "driver.get(site_url)\n",
    "\n",
    "# Ждем несколько секунд, чтобы страница полностью загрузилась (может потребоваться настройка времени в зависимости от скорости загрузки сайта)\n",
    "time.sleep(5)\n",
    "\n",
    "# Получаем текст страницы\n",
    "page_text = driver.find_element_by_tag_name(\"body\").text\n",
    "\n",
    "# Выводим текст на экран (для проверки)\n",
    "print(page_text)\n",
    "\n",
    "# Закрываем браузер\n",
    "driver.quit()"
   ]
  },
  {
   "cell_type": "code",
   "execution_count": 11,
   "metadata": {},
   "outputs": [
    {
     "ename": "ModuleNotFoundError",
     "evalue": "No module named 'selenium'",
     "output_type": "error",
     "traceback": [
      "\u001b[1;31m---------------------------------------------------------------------------\u001b[0m",
      "\u001b[1;31mModuleNotFoundError\u001b[0m                       Traceback (most recent call last)",
      "\u001b[1;32m<ipython-input-11-d93503fd0def>\u001b[0m in \u001b[0;36m<module>\u001b[1;34m\u001b[0m\n\u001b[1;32m----> 1\u001b[1;33m \u001b[1;32mfrom\u001b[0m \u001b[0mselenium\u001b[0m\u001b[1;33m.\u001b[0m\u001b[0mwebdriver\u001b[0m \u001b[1;32mimport\u001b[0m \u001b[0mChrome\u001b[0m\u001b[1;33m\u001b[0m\u001b[1;33m\u001b[0m\u001b[0m\n\u001b[0m\u001b[0;32m      2\u001b[0m \u001b[1;33m\u001b[0m\u001b[0m\n\u001b[0;32m      3\u001b[0m \u001b[1;31m# Указываем путь к chromedriver\u001b[0m\u001b[1;33m\u001b[0m\u001b[1;33m\u001b[0m\u001b[1;33m\u001b[0m\u001b[0m\n\u001b[0;32m      4\u001b[0m \u001b[0mdriver_path\u001b[0m \u001b[1;33m=\u001b[0m \u001b[1;34m\"D:/Desktop files/My files/I can/2024/Гарком/chromedriver\"\u001b[0m\u001b[1;33m\u001b[0m\u001b[1;33m\u001b[0m\u001b[0m\n\u001b[0;32m      5\u001b[0m \u001b[1;33m\u001b[0m\u001b[0m\n",
      "\u001b[1;31mModuleNotFoundError\u001b[0m: No module named 'selenium'"
     ]
    }
   ],
   "source": [
    "from selenium.webdriver import Chrome\n",
    "\n",
    "# Указываем путь к chromedriver\n",
    "driver_path = \"D:/Desktop files/My files/I can/2024/Гарком/chromedriver\"\n",
    "\n",
    "# Создаем экземпляр драйвера браузера Chrome\n",
    "driver = Chrome(executable_path=driver_path)\n",
    "\n",
    "# Теперь вы можете использовать driver для управления браузером"
   ]
  },
  {
   "cell_type": "code",
   "execution_count": 12,
   "metadata": {},
   "outputs": [],
   "source": [
    "driver_path = \"/путь/к/вашему/драйверу/chromedriver\"  # для macOS/Linux"
   ]
  },
  {
   "cell_type": "code",
   "execution_count": 13,
   "metadata": {},
   "outputs": [],
   "source": [
    "driver_path = \"D:/Desktop files/My files/I can/2024/Гарком/chromedriver.exe\"  # для Windows"
   ]
  },
  {
   "cell_type": "code",
   "execution_count": 14,
   "metadata": {},
   "outputs": [
    {
     "ename": "ModuleNotFoundError",
     "evalue": "No module named 'selenium'",
     "output_type": "error",
     "traceback": [
      "\u001b[1;31m---------------------------------------------------------------------------\u001b[0m",
      "\u001b[1;31mModuleNotFoundError\u001b[0m                       Traceback (most recent call last)",
      "\u001b[1;32m<ipython-input-14-57cfb4ba121a>\u001b[0m in \u001b[0;36m<module>\u001b[1;34m\u001b[0m\n\u001b[1;32m----> 1\u001b[1;33m \u001b[1;32mfrom\u001b[0m \u001b[0mselenium\u001b[0m\u001b[1;33m.\u001b[0m\u001b[0mwebdriver\u001b[0m \u001b[1;32mimport\u001b[0m \u001b[0mChrome\u001b[0m\u001b[1;33m\u001b[0m\u001b[1;33m\u001b[0m\u001b[0m\n\u001b[0m\u001b[0;32m      2\u001b[0m \u001b[1;33m\u001b[0m\u001b[0m\n\u001b[0;32m      3\u001b[0m \u001b[1;31m# Указываем путь к chromedriver\u001b[0m\u001b[1;33m\u001b[0m\u001b[1;33m\u001b[0m\u001b[1;33m\u001b[0m\u001b[0m\n\u001b[0;32m      4\u001b[0m \u001b[0mdriver_path\u001b[0m \u001b[1;33m=\u001b[0m \u001b[1;34m\"/путь/к/вашему/драйверу/chromedriver\"\u001b[0m\u001b[1;33m\u001b[0m\u001b[1;33m\u001b[0m\u001b[0m\n\u001b[0;32m      5\u001b[0m \u001b[1;33m\u001b[0m\u001b[0m\n",
      "\u001b[1;31mModuleNotFoundError\u001b[0m: No module named 'selenium'"
     ]
    }
   ],
   "source": [
    "from selenium.webdriver import Chrome\n",
    "\n",
    "# Указываем путь к chromedriver\n",
    "driver_path = \"/путь/к/вашему/драйверу/chromedriver\"\n",
    "\n",
    "# Создаем экземпляр драйвера браузера Chrome\n",
    "driver = Chrome(executable_path=driver_path)\n",
    "\n",
    "# Теперь вы можете использовать driver для управления браузером"
   ]
  },
  {
   "cell_type": "code",
   "execution_count": 15,
   "metadata": {},
   "outputs": [
    {
     "name": "stdout",
     "output_type": "stream",
     "text": [
      "Collecting requests-html\n",
      "  Downloading https://files.pythonhosted.org/packages/24/bc/a4380f09bab3a776182578ce6b2771e57259d0d4dbce178205779abdc347/requests_html-0.10.0-py3-none-any.whl\n",
      "Collecting w3lib (from requests-html)\n",
      "  Downloading https://files.pythonhosted.org/packages/82/e2/dcf8573d7153194eb673347cea1f9bbdb2a8e61030740fb6f50e4234a00b/w3lib-2.1.2-py3-none-any.whl\n",
      "Requirement already satisfied: requests in c:\\programdata\\anaconda3\\lib\\site-packages (from requests-html) (2.22.0)\n",
      "Collecting pyppeteer>=0.0.14 (from requests-html)\n",
      "  Downloading https://files.pythonhosted.org/packages/10/46/33c0a9e7d37bf33487074de4399963462093043ad224d1881e41cbd937f3/pyppeteer-1.0.2-py3-none-any.whl (83kB)\n",
      "Collecting parse (from requests-html)\n",
      "  Downloading https://files.pythonhosted.org/packages/ce/f0/30fe1494f1910ad3ea40639b13ac48cdb16a8600e8861cbfc2c560661ddf/parse-1.20.1-py2.py3-none-any.whl\n",
      "Collecting pyquery (from requests-html)\n",
      "  Downloading https://files.pythonhosted.org/packages/36/b7/f7ccf9e52e2817e1265d3719c600fa4ef33c07de4d5ef0ced3f43ab1cef2/pyquery-2.0.0-py3-none-any.whl\n",
      "Collecting bs4 (from requests-html)\n",
      "  Downloading https://files.pythonhosted.org/packages/51/bb/bf7aab772a159614954d84aa832c129624ba6c32faa559dfb200a534e50b/bs4-0.0.2-py2.py3-none-any.whl\n",
      "Collecting fake-useragent (from requests-html)\n",
      "  Downloading https://files.pythonhosted.org/packages/e4/99/60d8cf1b26938c2e0a57e232f7f15641dfcd6f8deda454d73e4145910ff6/fake_useragent-1.5.1-py3-none-any.whl\n",
      "Requirement already satisfied: certifi>=2017.4.17 in c:\\programdata\\anaconda3\\lib\\site-packages (from requests->requests-html) (2019.6.16)\n",
      "Requirement already satisfied: chardet<3.1.0,>=3.0.2 in c:\\programdata\\anaconda3\\lib\\site-packages (from requests->requests-html) (3.0.4)\n",
      "Requirement already satisfied: idna<2.9,>=2.5 in c:\\programdata\\anaconda3\\lib\\site-packages (from requests->requests-html) (2.8)\n",
      "Collecting urllib3!=1.25.0,!=1.25.1,<1.26,>=1.21.1 (from requests->requests-html)\n",
      "  Downloading https://files.pythonhosted.org/packages/56/aa/4ef5aa67a9a62505db124a5cb5262332d1d4153462eb8fd89c9fa41e5d92/urllib3-1.25.11-py2.py3-none-any.whl (127kB)\n",
      "Collecting appdirs<2.0.0,>=1.4.3 (from pyppeteer>=0.0.14->requests-html)\n",
      "  Downloading https://files.pythonhosted.org/packages/3b/00/2344469e2084fb287c2e0b57b72910309874c3245463acd6cf5e3db69324/appdirs-1.4.4-py2.py3-none-any.whl\n",
      "Collecting importlib-metadata>=1.4 (from pyppeteer>=0.0.14->requests-html)\n",
      "  Downloading https://files.pythonhosted.org/packages/ff/94/64287b38c7de4c90683630338cf28f129decbba0a44f0c6db35a873c73c4/importlib_metadata-6.7.0-py3-none-any.whl\n",
      "Collecting websockets<11.0,>=10.0 (from pyppeteer>=0.0.14->requests-html)\n",
      "  Downloading https://files.pythonhosted.org/packages/ab/41/ed2fecb228c1f25cea03fce4a22a86f7771a10875d5762e777e943bb7d68/websockets-10.4-cp37-cp37m-win_amd64.whl (101kB)\n",
      "Collecting tqdm<5.0.0,>=4.42.1 (from pyppeteer>=0.0.14->requests-html)\n",
      "  Downloading https://files.pythonhosted.org/packages/18/eb/fdb7eb9e48b7b02554e1664afd3bd3f117f6b6d6c5881438a0b055554f9b/tqdm-4.66.4-py3-none-any.whl (78kB)\n",
      "Collecting pyee<9.0.0,>=8.1.0 (from pyppeteer>=0.0.14->requests-html)\n",
      "  Downloading https://files.pythonhosted.org/packages/56/37/29d137df23ed1d88d8dcee8a6b8e789d1162042f194b5ccd0a48f503429b/pyee-8.2.2-py2.py3-none-any.whl\n",
      "Collecting cssselect>=1.2.0 (from pyquery->requests-html)\n",
      "  Downloading https://files.pythonhosted.org/packages/06/a9/2da08717a6862c48f1d61ef957a7bba171e7eefa6c0aa0ceb96a140c2a6b/cssselect-1.2.0-py2.py3-none-any.whl\n",
      "Requirement already satisfied: lxml>=2.1 in c:\\programdata\\anaconda3\\lib\\site-packages (from pyquery->requests-html) (4.3.4)\n",
      "Requirement already satisfied: beautifulsoup4 in c:\\programdata\\anaconda3\\lib\\site-packages (from bs4->requests-html) (4.7.1)\n",
      "Collecting importlib-resources>=5.0; python_version < \"3.10\" (from fake-useragent->requests-html)\n",
      "  Downloading https://files.pythonhosted.org/packages/38/71/c13ea695a4393639830bf96baea956538ba7a9d06fcce7cef10bfff20f72/importlib_resources-5.12.0-py3-none-any.whl\n",
      "Requirement already satisfied: zipp>=0.5 in c:\\programdata\\anaconda3\\lib\\site-packages (from importlib-metadata>=1.4->pyppeteer>=0.0.14->requests-html) (0.5.1)\n",
      "Collecting typing-extensions>=3.6.4; python_version < \"3.8\" (from importlib-metadata>=1.4->pyppeteer>=0.0.14->requests-html)\n",
      "  Using cached https://files.pythonhosted.org/packages/ec/6b/63cc3df74987c36fe26157ee12e09e8f9db4de771e0f3404263117e75b95/typing_extensions-4.7.1-py3-none-any.whl\n",
      "Requirement already satisfied: colorama; platform_system == \"Windows\" in c:\\programdata\\anaconda3\\lib\\site-packages (from tqdm<5.0.0,>=4.42.1->pyppeteer>=0.0.14->requests-html) (0.4.1)\n",
      "Requirement already satisfied: soupsieve>=1.2 in c:\\programdata\\anaconda3\\lib\\site-packages (from beautifulsoup4->bs4->requests-html) (1.8)\n",
      "Installing collected packages: w3lib, appdirs, typing-extensions, importlib-metadata, urllib3, websockets, tqdm, pyee, pyppeteer, parse, cssselect, pyquery, bs4, importlib-resources, fake-useragent, requests-html\n",
      "  Found existing installation: importlib-metadata 0.17\n",
      "    Uninstalling importlib-metadata-0.17:\n",
      "      Successfully uninstalled importlib-metadata-0.17\n",
      "  Found existing installation: urllib3 2.0.7\n",
      "    Uninstalling urllib3-2.0.7:\n",
      "      Successfully uninstalled urllib3-2.0.7\n",
      "  Found existing installation: tqdm 4.32.1\n",
      "    Uninstalling tqdm-4.32.1:\n",
      "      Successfully uninstalled tqdm-4.32.1\n",
      "Successfully installed appdirs-1.4.4 bs4-0.0.2 cssselect-1.2.0 fake-useragent-1.5.1 importlib-metadata-6.7.0 importlib-resources-5.12.0 parse-1.20.1 pyee-8.2.2 pyppeteer-1.0.2 pyquery-2.0.0 requests-html-0.10.0 tqdm-4.66.4 typing-extensions-4.7.1 urllib3-1.25.11 w3lib-2.1.2 websockets-10.4\n",
      "Note: you may need to restart the kernel to use updated packages.\n"
     ]
    },
    {
     "name": "stderr",
     "output_type": "stream",
     "text": [
      "ERROR: conda 4.10.3 requires ruamel_yaml_conda>=0.11.14, which is not installed.\n",
      "ERROR: pyppeteer 1.0.2 has requirement certifi>=2021, but you'll have certifi 2019.6.16 which is incompatible.\n",
      "ERROR: importlib-resources 5.12.0 has requirement zipp>=3.1.0; python_version < \"3.10\", but you'll have zipp 0.5.1 which is incompatible.\n",
      "ERROR: fake-useragent 1.5.1 has requirement importlib-metadata~=4.0; python_version < \"3.8\", but you'll have importlib-metadata 6.7.0 which is incompatible.\n"
     ]
    }
   ],
   "source": [
    "pip install requests-html"
   ]
  },
  {
   "cell_type": "code",
   "execution_count": 18,
   "metadata": {},
   "outputs": [
    {
     "name": "stdout",
     "output_type": "stream",
     "text": [
      "Collecting certifi\n",
      "  Using cached https://files.pythonhosted.org/packages/ba/06/a07f096c664aeb9f01624f858c3add0a4e913d6c96257acb4fce61e7de14/certifi-2024.2.2-py3-none-any.whl\n",
      "Installing collected packages: certifi\n",
      "  Found existing installation: certifi 2019.6.16\n",
      "Note: you may need to restart the kernel to use updated packages.\n"
     ]
    },
    {
     "name": "stderr",
     "output_type": "stream",
     "text": [
      "ERROR: conda 4.10.3 requires ruamel_yaml_conda>=0.11.14, which is not installed.\n",
      "ERROR: Cannot uninstall 'certifi'. It is a distutils installed project and thus we cannot accurately determine which files belong to it which would lead to only a partial uninstall.\n"
     ]
    }
   ],
   "source": [
    "pip install --upgrade certifi"
   ]
  },
  {
   "cell_type": "code",
   "execution_count": 17,
   "metadata": {},
   "outputs": [
    {
     "name": "stdout",
     "output_type": "stream",
     "text": [
      "Requirement already up-to-date: importlib-metadata in c:\\programdata\\anaconda3\\lib\\site-packages (6.7.0)\n",
      "Requirement already satisfied, skipping upgrade: zipp>=0.5 in c:\\programdata\\anaconda3\\lib\\site-packages (from importlib-metadata) (0.5.1)\n",
      "Requirement already satisfied, skipping upgrade: typing-extensions>=3.6.4; python_version < \"3.8\" in c:\\programdata\\anaconda3\\lib\\site-packages (from importlib-metadata) (4.7.1)\n",
      "Note: you may need to restart the kernel to use updated packages.\n"
     ]
    }
   ],
   "source": [
    "pip install --upgrade importlib-metadata"
   ]
  },
  {
   "cell_type": "code",
   "execution_count": 19,
   "metadata": {},
   "outputs": [
    {
     "name": "stdout",
     "output_type": "stream",
     "text": [
      "Collecting zipp\n",
      "  Downloading https://files.pythonhosted.org/packages/5b/fa/c9e82bbe1af6266adf08afb563905eb87cab83fde00a0a08963510621047/zipp-3.15.0-py3-none-any.whl\n",
      "Installing collected packages: zipp\n",
      "  Found existing installation: zipp 0.5.1\n",
      "    Uninstalling zipp-0.5.1:\n",
      "      Successfully uninstalled zipp-0.5.1\n",
      "Successfully installed zipp-3.15.0\n",
      "Note: you may need to restart the kernel to use updated packages.\n"
     ]
    },
    {
     "name": "stderr",
     "output_type": "stream",
     "text": [
      "ERROR: fake-useragent 1.5.1 has requirement importlib-metadata~=4.0; python_version < \"3.8\", but you'll have importlib-metadata 6.7.0 which is incompatible.\n"
     ]
    }
   ],
   "source": [
    "pip install --upgrade zipp"
   ]
  },
  {
   "cell_type": "code",
   "execution_count": null,
   "metadata": {},
   "outputs": [],
   "source": [
    "pip uninstall fake-useragent"
   ]
  },
  {
   "cell_type": "code",
   "execution_count": null,
   "metadata": {},
   "outputs": [],
   "source": [
    "import requests\n",
    "import json\n",
    "from bs4 import BeautifulSoup\n",
    "\n",
    "# Функция для загрузки HTML-страницы\n",
    "def download_page(url):\n",
    "    response = requests.get(url)\n",
    "    return response.text\n",
    "\n",
    "# Функция для парсинга HTML и сбора данных\n",
    "def parse_html(html):\n",
    "    soup = BeautifulSoup(html, 'html.parser')\n",
    "    data = {}\n",
    "    \n",
    "    # Для каждого элемента категории собираем название и переводим его на русский\n",
    "    categories = soup.find_all(class_='category')\n",
    "    data[\"categories\"] = {}\n",
    "    for category in categories:\n",
    "        category_name = category.get('id')\n",
    "        translated_name = translate_to_russian(category_name)  # Предположим, что у вас есть функция для перевода на русский\n",
    "        data[\"categories\"][translated_name] = category.text.strip()\n",
    "    \n",
    "    # Добавляем остальные текстовые данные, если они есть на странице\n",
    "    \n",
    "    return data\n",
    "\n",
    "# Функция для сохранения данных в JSON-файл\n",
    "def save_to_json(data, filename):\n",
    "    with open(filename, 'w', encoding='utf-8') as json_file:\n",
    "        json.dump(data, json_file, ensure_ascii=False, indent=4)\n",
    "\n",
    "# URL вашего сайта\n",
    "site_url = \"https://nomadfarm-24.store/\"\n",
    "\n",
    "# Загружаем HTML-код страницы\n",
    "html = download_page(site_url)\n",
    "\n",
    "# Парсим HTML и собираем данные\n",
    "parsed_data = parse_html(html)\n",
    "\n",
    "# Сохраняем данные в JSON-файл\n",
    "save_to_json(parsed_data, \"site_data.json\")"
   ]
  },
  {
   "cell_type": "code",
   "execution_count": null,
   "metadata": {},
   "outputs": [],
   "source": []
  }
 ],
 "metadata": {
  "kernelspec": {
   "display_name": "Python 3",
   "language": "python",
   "name": "python3"
  },
  "language_info": {
   "codemirror_mode": {
    "name": "ipython",
    "version": 3
   },
   "file_extension": ".py",
   "mimetype": "text/x-python",
   "name": "python",
   "nbconvert_exporter": "python",
   "pygments_lexer": "ipython3",
   "version": "3.7.3"
  }
 },
 "nbformat": 4,
 "nbformat_minor": 2
}
